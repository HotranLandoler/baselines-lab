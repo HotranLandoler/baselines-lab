{
 "cells": [
  {
   "cell_type": "code",
   "execution_count": 1,
   "id": "0a194adb-decd-46ee-966e-875f33662d98",
   "metadata": {},
   "outputs": [],
   "source": [
    "import numpy as np\n",
    "import torch"
   ]
  },
  {
   "cell_type": "code",
   "execution_count": 3,
   "id": "1c770acf-7c3e-41f3-b333-b8cc2d8bc948",
   "metadata": {},
   "outputs": [
    {
     "data": {
      "text/plain": [
       "numpy.lib.npyio.NpzFile"
      ]
     },
     "execution_count": 3,
     "metadata": {},
     "output_type": "execute_result"
    }
   ],
   "source": [
    "data_file = np.load(\"data/DGraph/raw/dgraphfin.npz\")\n",
    "type(data_file)"
   ]
  },
  {
   "cell_type": "code",
   "execution_count": 49,
   "id": "0aa63744-1dcc-4b91-933a-7eebccdab71f",
   "metadata": {},
   "outputs": [],
   "source": [
    "import tomli"
   ]
  },
  {
   "cell_type": "code",
   "execution_count": 65,
   "id": "2bcaf53e-ad86-46a6-85e6-e996b3e8d54c",
   "metadata": {},
   "outputs": [
    {
     "data": {
      "text/plain": [
       "{'model': 'tgat',\n",
       " 'device': 'cuda:0',\n",
       " 'num_classes': 2,\n",
       " 'hidden_size': 64,\n",
       " 'num_layers': 2,\n",
       " 'dropout': 0.0,\n",
       " 'lr': 0.01,\n",
       " 'metrics': ['AUC', 'AP'],\n",
       " 'log_path': './logs.txt',\n",
       " 'models': {'gcn': {'weight_decay': 5e-07}, 'tgat': {'weight_decay': 0.0}}}"
      ]
     },
     "execution_count": 65,
     "metadata": {},
     "output_type": "execute_result"
    }
   ],
   "source": [
    "with open(\"config.toml\", \"rb\") as file:\n",
    "    configs = tomli.load(file)\n",
    "configs"
   ]
  },
  {
   "cell_type": "code",
   "execution_count": 68,
   "id": "1a456b85-67e8-4a4b-b1d5-f9515521ce83",
   "metadata": {},
   "outputs": [
    {
     "data": {
      "text/plain": [
       "{'weight_decay': 0.0}"
      ]
     },
     "execution_count": 68,
     "metadata": {},
     "output_type": "execute_result"
    }
   ],
   "source": [
    "configs['models'][configs['model']]"
   ]
  },
  {
   "cell_type": "code",
   "execution_count": 5,
   "id": "cf5ff486-073a-48b0-9d7c-0a352ed455bd",
   "metadata": {},
   "outputs": [
    {
     "data": {
      "text/plain": [
       "['x',\n",
       " 'y',\n",
       " 'edge_index',\n",
       " 'edge_type',\n",
       " 'edge_timestamp',\n",
       " 'train_mask',\n",
       " 'valid_mask',\n",
       " 'test_mask']"
      ]
     },
     "execution_count": 5,
     "metadata": {},
     "output_type": "execute_result"
    }
   ],
   "source": [
    "data_file = np.load(\"data/DGraph/raw/dgraphfin.npz\")\n",
    "data_file.files"
   ]
  },
  {
   "cell_type": "code",
   "execution_count": 26,
   "id": "35b92702-6c36-4001-a098-209d699ab3f5",
   "metadata": {},
   "outputs": [
    {
     "data": {
      "text/plain": [
       "array([2, 3, 2, ..., 2, 2, 2], dtype=int64)"
      ]
     },
     "execution_count": 26,
     "metadata": {},
     "output_type": "execute_result"
    }
   ],
   "source": [
    "data_file['y']"
   ]
  },
  {
   "cell_type": "code",
   "execution_count": 27,
   "id": "257b65f2-079f-495a-b899-80106997a347",
   "metadata": {},
   "outputs": [
    {
     "ename": "ValueError",
     "evalue": "all the input array dimensions for the concatenation axis must match exactly, but along dimension 0, the array at index 0 has size 4300999 and the array at index 2 has size 3700550",
     "output_type": "error",
     "traceback": [
      "\u001b[1;31m---------------------------------------------------------------------------\u001b[0m",
      "\u001b[1;31mValueError\u001b[0m                                Traceback (most recent call last)",
      "Cell \u001b[1;32mIn[27], line 1\u001b[0m\n\u001b[1;32m----> 1\u001b[0m \u001b[43mnp\u001b[49m\u001b[38;5;241;43m.\u001b[39;49m\u001b[43mconcatenate\u001b[49m\u001b[43m(\u001b[49m\u001b[43m(\u001b[49m\u001b[43mdata_file\u001b[49m\u001b[43m[\u001b[49m\u001b[38;5;124;43m'\u001b[39;49m\u001b[38;5;124;43medge_index\u001b[39;49m\u001b[38;5;124;43m'\u001b[39;49m\u001b[43m]\u001b[49m\u001b[43m,\u001b[49m\u001b[43m \u001b[49m\u001b[43mdata_file\u001b[49m\u001b[43m[\u001b[49m\u001b[38;5;124;43m'\u001b[39;49m\u001b[38;5;124;43medge_timestamp\u001b[39;49m\u001b[38;5;124;43m'\u001b[39;49m\u001b[43m]\u001b[49m\u001b[43m[\u001b[49m\u001b[43m:\u001b[49m\u001b[43m,\u001b[49m\u001b[43m \u001b[49m\u001b[38;5;28;43;01mNone\u001b[39;49;00m\u001b[43m]\u001b[49m\u001b[43m,\u001b[49m\u001b[43m \u001b[49m\n\u001b[0;32m      2\u001b[0m \u001b[43m               \u001b[49m\u001b[43mdata_file\u001b[49m\u001b[43m[\u001b[49m\u001b[38;5;124;43m'\u001b[39;49m\u001b[38;5;124;43my\u001b[39;49m\u001b[38;5;124;43m'\u001b[39;49m\u001b[43m]\u001b[49m\u001b[43m[\u001b[49m\u001b[43m:\u001b[49m\u001b[43m,\u001b[49m\u001b[43m \u001b[49m\u001b[38;5;28;43;01mNone\u001b[39;49;00m\u001b[43m]\u001b[49m\u001b[43m)\u001b[49m\u001b[43m,\u001b[49m\u001b[43m \u001b[49m\u001b[43maxis\u001b[49m\u001b[38;5;241;43m=\u001b[39;49m\u001b[38;5;241;43m-\u001b[39;49m\u001b[38;5;241;43m1\u001b[39;49m\u001b[43m)\u001b[49m\n",
      "File \u001b[1;32m<__array_function__ internals>:180\u001b[0m, in \u001b[0;36mconcatenate\u001b[1;34m(*args, **kwargs)\u001b[0m\n",
      "\u001b[1;31mValueError\u001b[0m: all the input array dimensions for the concatenation axis must match exactly, but along dimension 0, the array at index 0 has size 4300999 and the array at index 2 has size 3700550"
     ]
    }
   ],
   "source": [
    "np.concatenate((data_file['edge_index'], data_file['edge_timestamp'][:, None], \n",
    "               data_file['y'][:, None]), axis=-1)"
   ]
  },
  {
   "cell_type": "code",
   "execution_count": 17,
   "id": "3d5ce551-62bb-4e76-b9d7-457271dcdf61",
   "metadata": {},
   "outputs": [],
   "source": [
    "import data_processing\n",
    "import cogdl\n",
    "import pandas as pd"
   ]
  },
  {
   "cell_type": "code",
   "execution_count": 38,
   "id": "708b68d3-28cd-4018-a18c-097d5317decb",
   "metadata": {},
   "outputs": [
    {
     "data": {
      "text/plain": [
       "(DynamicGraph(x=[3700550, 17], y=[3700550], train_mask=[3700550], val_mask=[3700550], test_mask=[3700550], edge_time=[4300999], edge_index=[2, 4300999]),\n",
       " Graph(x=[2708, 1433], y=[2708], train_mask=[2708], val_mask=[2708], test_mask=[2708], edge_index=[2, 10556]))"
      ]
     },
     "execution_count": 38,
     "metadata": {},
     "output_type": "execute_result"
    }
   ],
   "source": [
    "dataset = data_processing.DGraphDataset(to_undirected=False)[0]\n",
    "sb = cogdl.datasets.build_dataset_from_name(\"cora\")[0]\n",
    "dataset, sb"
   ]
  },
  {
   "cell_type": "code",
   "execution_count": 39,
   "id": "bdaa8405-2846-41b4-8191-1c2814a5265b",
   "metadata": {},
   "outputs": [
    {
     "data": {
      "text/plain": [
       "((tensor([ 476699,  347800,  154317,  ..., 1894383, 1895741, 1206795]),\n",
       "  tensor([2915516, 1271242, 2104635,  ..., 1147595, 1314434, 2072636])),\n",
       " tensor([[254, 266, 240,  ..., 378, 594, 112]]))"
      ]
     },
     "execution_count": 39,
     "metadata": {},
     "output_type": "execute_result"
    }
   ],
   "source": [
    "dataset.edge_index, dataset.edge_time.view(1, -1)"
   ]
  },
  {
   "cell_type": "code",
   "execution_count": 40,
   "id": "223f6ad8-ef24-4c8e-9b29-798fef82ac22",
   "metadata": {},
   "outputs": [
    {
     "data": {
      "text/plain": [
       "(tensor([[ 476699,  347800,  154317,  ..., 1894383, 1895741, 1206795],\n",
       "         [2915516, 1271242, 2104635,  ..., 1147595, 1314434, 2072636]]),\n",
       " (tensor([ 476699,  347800,  154317,  ..., 1894383, 1895741, 1206795]),\n",
       "  tensor([2915516, 1271242, 2104635,  ..., 1147595, 1314434, 2072636])))"
      ]
     },
     "execution_count": 40,
     "metadata": {},
     "output_type": "execute_result"
    }
   ],
   "source": [
    "reshaped = torch.stack((dataset.edge_index[0], dataset.edge_index[1]))\n",
    "reshaped, dataset.edge_index"
   ]
  },
  {
   "cell_type": "code",
   "execution_count": 41,
   "id": "0b6145ff-fb98-4798-a2a6-f2a0d1b4525f",
   "metadata": {},
   "outputs": [
    {
     "data": {
      "text/plain": [
       "(tensor([[ 476699,  347800,  154317,  ..., 1894383, 1895741, 1206795],\n",
       "         [2915516, 1271242, 2104635,  ..., 1147595, 1314434, 2072636],\n",
       "         [    254,     266,     240,  ...,     378,     594,     112]]),\n",
       " (tensor([ 476699,  347800,  154317,  ..., 1894383, 1895741, 1206795]),\n",
       "  tensor([2915516, 1271242, 2104635,  ..., 1147595, 1314434, 2072636])))"
      ]
     },
     "execution_count": 41,
     "metadata": {},
     "output_type": "execute_result"
    }
   ],
   "source": [
    "edge = torch.cat((reshaped, dataset.edge_time.view(1, -1)), dim=0)  # process node time\n",
    "edge, dataset.edge_index"
   ]
  },
  {
   "cell_type": "code",
   "execution_count": 42,
   "id": "a566dae8-aecb-4ad5-a5bf-f3624756248c",
   "metadata": {},
   "outputs": [
    {
     "data": {
      "text/plain": [
       "(array([[ 133034,     212],\n",
       "        [2884152,     243],\n",
       "        [3553283,     721],\n",
       "        ...,\n",
       "        [2327524,     763],\n",
       "        [1798752,     763],\n",
       "        [2080404,     763]], dtype=int64),\n",
       " (tensor([ 476699,  347800,  154317,  ..., 1894383, 1895741, 1206795]),\n",
       "  tensor([2915516, 1271242, 2104635,  ..., 1147595, 1314434, 2072636])))"
      ]
     },
     "execution_count": 42,
     "metadata": {},
     "output_type": "execute_result"
    }
   ],
   "source": [
    "degree = pd.DataFrame(edge.T.numpy()).groupby(0).min().values\n",
    "degree, dataset.edge_index"
   ]
  },
  {
   "cell_type": "code",
   "execution_count": 43,
   "id": "b1e4adfb-b5be-4beb-9b8e-c0bd25095f2a",
   "metadata": {},
   "outputs": [
    {
     "data": {
      "text/plain": [
       "(array([      3,      13,      14, ..., 3699081, 3699082, 3699087],\n",
       "       dtype=int64),\n",
       " (tensor([ 476699,  347800,  154317,  ..., 1894383, 1895741, 1206795]),\n",
       "  tensor([2915516, 1271242, 2104635,  ..., 1147595, 1314434, 2072636])))"
      ]
     },
     "execution_count": 43,
     "metadata": {},
     "output_type": "execute_result"
    }
   ],
   "source": [
    "ids = pd.DataFrame(reshaped.T.numpy()).groupby(0).count().index.values\n",
    "ids, dataset.edge_index"
   ]
  },
  {
   "cell_type": "code",
   "execution_count": 44,
   "id": "d8b772bc-69d5-49a6-9f03-d13d92a97aa4",
   "metadata": {},
   "outputs": [
    {
     "data": {
      "text/plain": [
       "(array([  0,   0,   0, 212,   0,   0,   0,   0,   0,   0], dtype=int64),\n",
       " (tensor([ 476699,  347800,  154317,  ..., 1894383, 1895741, 1206795]),\n",
       "  tensor([2915516, 1271242, 2104635,  ..., 1147595, 1314434, 2072636])))"
      ]
     },
     "execution_count": 44,
     "metadata": {},
     "output_type": "execute_result"
    }
   ],
   "source": [
    "keys = { i: 0 for i in range(dataset.x.shape[0]) }\n",
    "for i in range(len(ids)):\n",
    "    keys[ids[i]] = degree[i][1]\n",
    "node_time = np.array(list(keys.values()))\n",
    "node_time[:10], dataset.edge_index"
   ]
  },
  {
   "cell_type": "code",
   "execution_count": 45,
   "id": "d5e58651-9716-4840-9616-b3d3d9d7aa0a",
   "metadata": {},
   "outputs": [
    {
     "data": {
      "text/plain": [
       "(tensor([ 476699,  347800,  154317,  ..., 1147595, 1314434, 2072636]),\n",
       " tensor([2915516, 1271242, 2104635,  ..., 1894383, 1895741, 1206795]),\n",
       " (tensor([ 476699,  347800,  154317,  ..., 1894383, 1895741, 1206795]),\n",
       "  tensor([2915516, 1271242, 2104635,  ..., 1147595, 1314434, 2072636])))"
      ]
     },
     "execution_count": 45,
     "metadata": {},
     "output_type": "execute_result"
    }
   ],
   "source": [
    "undir = torch.cat((reshaped, reshaped[[1, 0], :]), dim=1)\n",
    "undir[0, :], undir[1, :], dataset.edge_index"
   ]
  },
  {
   "cell_type": "code",
   "execution_count": 46,
   "id": "24f30e30-b140-442b-b106-1d6ab6f9e297",
   "metadata": {},
   "outputs": [
    {
     "data": {
      "text/plain": [
       "tensor([254, 266, 240,  ..., 378, 594, 112])"
      ]
     },
     "execution_count": 46,
     "metadata": {},
     "output_type": "execute_result"
    }
   ],
   "source": [
    "torch.cat((dataset.edge_time, dataset.edge_time), dim=0)"
   ]
  },
  {
   "cell_type": "code",
   "execution_count": 44,
   "id": "c5b70838-5620-432e-8601-429e928b2301",
   "metadata": {},
   "outputs": [
    {
     "data": {
      "text/plain": [
       "(tensor([[ 476699,  347800,  154317,  ..., 1894383, 1895741, 1206795],\n",
       "         [2915516, 1271242, 2104635,  ..., 1147595, 1314434, 2072636]]),\n",
       " (tensor([ 476699,  347800,  154317,  ..., 1894383, 1895741, 1206795]),\n",
       "  tensor([2915516, 1271242, 2104635,  ..., 1147595, 1314434, 2072636])),\n",
       " tensor([[3, 1, 3, 2, 0],\n",
       "         [3, 2, 2, 3, 4]]))"
      ]
     },
     "execution_count": 44,
     "metadata": {},
     "output_type": "execute_result"
    }
   ],
   "source": [
    "torch.tensor(data_file['edge_index']).long().T, dataset.edge_index, torch.randint(0, 5, (2, 5))\n"
   ]
  },
  {
   "cell_type": "code",
   "execution_count": null,
   "id": "6ec59dd1-5283-4759-a5bf-aaee9ffefbaa",
   "metadata": {},
   "outputs": [],
   "source": [
    "model = GCN(in_feats=dataset.num_features, hidden_size=64,\n",
    "            out_feats=2, dropout=0.0, num_layers=2)"
   ]
  },
  {
   "cell_type": "code",
   "execution_count": 5,
   "id": "a0bcb125-acb9-45be-b02a-1dc0b9c2121e",
   "metadata": {},
   "outputs": [
    {
     "data": {
      "text/plain": [
       "tensor([[0., 0.],\n",
       "        [0., 0.],\n",
       "        [0., 0.],\n",
       "        ...,\n",
       "        [0., 0.],\n",
       "        [0., 0.],\n",
       "        [0., 0.]], grad_fn=<ScatterAddBackward0>)"
      ]
     },
     "execution_count": 5,
     "metadata": {},
     "output_type": "execute_result"
    }
   ],
   "source": [
    "model.train()\n",
    "output = model(dataset)\n",
    "output"
   ]
  },
  {
   "cell_type": "code",
   "execution_count": 6,
   "id": "4eec3a7e-f265-43cd-9f0f-2b23d4662939",
   "metadata": {},
   "outputs": [
    {
     "data": {
      "text/plain": [
       "torch.Size([183862, 2])"
      ]
     },
     "execution_count": 6,
     "metadata": {},
     "output_type": "execute_result"
    }
   ],
   "source": [
    "output[dataset.val_mask].shape"
   ]
  },
  {
   "cell_type": "code",
   "execution_count": 7,
   "id": "f1560662-a741-44dc-af2e-cb002664c939",
   "metadata": {},
   "outputs": [
    {
     "data": {
      "text/plain": [
       "torch.Size([183862])"
      ]
     },
     "execution_count": 7,
     "metadata": {},
     "output_type": "execute_result"
    }
   ],
   "source": [
    "dataset.y[dataset.val_mask].shape"
   ]
  },
  {
   "cell_type": "code",
   "execution_count": 8,
   "id": "498d1746-4453-49fe-852c-071b0da7ce7b",
   "metadata": {},
   "outputs": [
    {
     "data": {
      "text/plain": [
       "tensor([[ 0.,  5., -1.,  ..., -1., -1., -1.],\n",
       "        [-1., -1., -1.,  ..., -1., -1., -1.],\n",
       "        [ 0.,  5., -1.,  ..., -1., -1., -1.],\n",
       "        ...,\n",
       "        [-1., -1., -1.,  ..., -1., -1., -1.],\n",
       "        [-1., -1., -1.,  ..., -1., -1., -1.],\n",
       "        [-1., -1., -1.,  ..., -1., -1., -1.]])"
      ]
     },
     "execution_count": 8,
     "metadata": {},
     "output_type": "execute_result"
    }
   ],
   "source": [
    "dataset.x"
   ]
  },
  {
   "cell_type": "code",
   "execution_count": 9,
   "id": "a53da8a7-a8a3-4dc8-8396-184e28fa2b34",
   "metadata": {},
   "outputs": [
    {
     "data": {
      "text/plain": [
       "tensor([[-0.6881,  0.7298, -0.6371, -0.6409, -0.9152, -0.5998, -0.5686, -0.7932,\n",
       "         -0.5690, -0.9180, -0.3009, -0.8426, -0.8469, -0.8494, -0.8061, -0.6192,\n",
       "         -0.6086],\n",
       "        [-2.0435, -1.5475, -0.6371, -0.6409, -0.9152, -0.5998, -0.5686, -0.7932,\n",
       "         -0.5690, -0.9180, -0.3009, -0.8426, -0.8469, -0.8494, -0.8061, -0.6192,\n",
       "         -0.6086],\n",
       "        [-0.6881,  0.7298, -0.6371, -0.6409, -0.9152, -0.5998, -0.5686, -0.7932,\n",
       "         -0.5690, -0.9180, -0.3009, -0.8426, -0.8469, -0.8494, -0.8061, -0.6192,\n",
       "         -0.6086],\n",
       "        [ 0.6673,  0.7298, -0.6371, -0.6409, -0.9152, -0.5998, -0.5686, -0.7932,\n",
       "         -0.5690, -0.9180, -0.3009, -0.8426, -0.8469, -0.8494, -0.8061, -0.6192,\n",
       "         -0.6086],\n",
       "        [ 0.6673,  1.4890, -0.6371, -0.6409, -0.9152, -0.5998, -0.5686, -0.7932,\n",
       "         -0.5690, -0.9180, -0.3009, -0.8426, -0.8469, -0.8494, -0.8061, -0.6192,\n",
       "         -0.6086]])"
      ]
     },
     "execution_count": 9,
     "metadata": {},
     "output_type": "execute_result"
    }
   ],
   "source": [
    "x = dataset.x\n",
    "x = (x-x.mean(0))/x.std(0)\n",
    "dataset.x = x\n",
    "dataset.x[:5]"
   ]
  },
  {
   "cell_type": "code",
   "execution_count": 10,
   "id": "9127f009-f376-4fc8-a309-f31354aec27c",
   "metadata": {},
   "outputs": [
    {
     "data": {
      "text/plain": [
       "False"
      ]
     },
     "execution_count": 10,
     "metadata": {},
     "output_type": "execute_result"
    }
   ],
   "source": [
    "dataset.y.dim()==2"
   ]
  },
  {
   "cell_type": "code",
   "execution_count": 16,
   "id": "240381d5-95e2-4185-a996-2cba437b668e",
   "metadata": {},
   "outputs": [
    {
     "ename": "IndexError",
     "evalue": "tuple index out of range",
     "output_type": "error",
     "traceback": [
      "\u001b[0;31m---------------------------------------------------------------------------\u001b[0m",
      "\u001b[0;31mIndexError\u001b[0m                                Traceback (most recent call last)",
      "\u001b[0;32m/tmp/ipykernel_63834/338524913.py\u001b[0m in \u001b[0;36m<module>\u001b[0;34m\u001b[0m\n\u001b[1;32m      1\u001b[0m \u001b[0msplit_idx\u001b[0m \u001b[0;34m=\u001b[0m \u001b[0;34m{\u001b[0m\u001b[0;34m'train'\u001b[0m\u001b[0;34m:\u001b[0m\u001b[0mdataset\u001b[0m\u001b[0;34m.\u001b[0m\u001b[0mtrain_mask\u001b[0m\u001b[0;34m,\u001b[0m \u001b[0;34m'valid'\u001b[0m\u001b[0;34m:\u001b[0m\u001b[0mdataset\u001b[0m\u001b[0;34m.\u001b[0m\u001b[0mval_mask\u001b[0m\u001b[0;34m,\u001b[0m \u001b[0;34m'test'\u001b[0m\u001b[0;34m:\u001b[0m\u001b[0mdataset\u001b[0m\u001b[0;34m.\u001b[0m\u001b[0mtest_mask\u001b[0m\u001b[0;34m}\u001b[0m\u001b[0;34m\u001b[0m\u001b[0;34m\u001b[0m\u001b[0m\n\u001b[0;32m----> 2\u001b[0;31m \u001b[0msplit_idx\u001b[0m\u001b[0;34m[\u001b[0m\u001b[0;34m'train'\u001b[0m\u001b[0;34m]\u001b[0m\u001b[0;34m.\u001b[0m\u001b[0mshape\u001b[0m\u001b[0;34m[\u001b[0m\u001b[0;36m1\u001b[0m\u001b[0;34m]\u001b[0m\u001b[0;34m\u001b[0m\u001b[0;34m\u001b[0m\u001b[0m\n\u001b[0m",
      "\u001b[0;31mIndexError\u001b[0m: tuple index out of range"
     ]
    }
   ],
   "source": [
    "split_idx = {'train':dataset.train_mask, 'valid':dataset.val_mask, 'test':dataset.test_mask}\n",
    "split_idx['train'].shape[1]"
   ]
  },
  {
   "cell_type": "code",
   "execution_count": 17,
   "id": "cf4f3634-338e-4a14-9f78-23ebdc1089d2",
   "metadata": {},
   "outputs": [
    {
     "data": {
      "text/plain": [
       "(17, 17)"
      ]
     },
     "execution_count": 17,
     "metadata": {},
     "output_type": "execute_result"
    }
   ],
   "source": [
    "dataset.x.size(-1), dataset.num_features"
   ]
  },
  {
   "cell_type": "code",
   "execution_count": 1,
   "id": "03e9a7a9-b062-4098-93bb-0e907913a8af",
   "metadata": {},
   "outputs": [],
   "source": [
    "from models.gcn_mlp_drop import MlpDropGCN, AdaptiveBbGCN"
   ]
  },
  {
   "cell_type": "code",
   "execution_count": 11,
   "id": "915e3658-9b18-44b2-ba55-962588159cfd",
   "metadata": {},
   "outputs": [],
   "source": [
    "from torch import Tensor\n",
    "def _multi_dropout(x: Tensor, probability: Tensor) -> Tensor:\n",
    "    assert x.shape[0] == probability.shape[0]\n",
    "    mask: Tensor = torch.rand_like(x) > probability\n",
    "    return mask * x / (1.0 - probability)"
   ]
  },
  {
   "cell_type": "code",
   "execution_count": 13,
   "id": "d9779735-dfed-4cdd-9639-4d9606f4e33e",
   "metadata": {},
   "outputs": [
    {
     "data": {
      "text/plain": [
       "tensor([[1., 1.],\n",
       "        [1., 1.],\n",
       "        [1., 1.],\n",
       "        [1., 1.],\n",
       "        [1., 1.]], requires_grad=True)"
      ]
     },
     "execution_count": 13,
     "metadata": {},
     "output_type": "execute_result"
    }
   ],
   "source": [
    "import torch\n",
    "x = torch.ones((5,2), requires_grad=True)\n",
    "x"
   ]
  },
  {
   "cell_type": "code",
   "execution_count": 14,
   "id": "4e3fc206-8c70-4e5e-ab9f-2e4e70b0b303",
   "metadata": {},
   "outputs": [
    {
     "data": {
      "text/plain": [
       "tensor([[0.4638],\n",
       "        [0.9735],\n",
       "        [0.5411],\n",
       "        [0.1210],\n",
       "        [0.7201]])"
      ]
     },
     "execution_count": 14,
     "metadata": {},
     "output_type": "execute_result"
    }
   ],
   "source": [
    "p = torch.rand(5,1)\n",
    "p"
   ]
  },
  {
   "cell_type": "code",
   "execution_count": 16,
   "id": "47ca8ca0-e283-4cb9-a93c-493ef471e8e4",
   "metadata": {},
   "outputs": [],
   "source": [
    "y = _multi_dropout(x, p)"
   ]
  },
  {
   "cell_type": "code",
   "execution_count": 17,
   "id": "79f995de-6b0e-4d39-8d13-081e5d8d13ef",
   "metadata": {},
   "outputs": [
    {
     "data": {
      "text/plain": [
       "tensor([[1.8649, 1.8649],\n",
       "        [0.0000, 0.0000],\n",
       "        [0.0000, 0.0000],\n",
       "        [0.0000, 1.1377],\n",
       "        [3.5724, 0.0000]], grad_fn=<DivBackward0>)"
      ]
     },
     "execution_count": 17,
     "metadata": {},
     "output_type": "execute_result"
    }
   ],
   "source": [
    "y"
   ]
  },
  {
   "cell_type": "code",
   "execution_count": 24,
   "id": "573bf8a8-6ae5-4c7f-977f-8b43b5b62c59",
   "metadata": {},
   "outputs": [],
   "source": [
    "y.sum().backward()"
   ]
  },
  {
   "cell_type": "code",
   "execution_count": 25,
   "id": "526378ef-dc06-4ec8-85c8-ebdf521eff58",
   "metadata": {},
   "outputs": [
    {
     "data": {
      "text/plain": [
       "tensor([[1.8649, 1.8649],\n",
       "        [0.0000, 0.0000],\n",
       "        [0.0000, 0.0000],\n",
       "        [0.0000, 1.1377],\n",
       "        [3.5724, 0.0000]])"
      ]
     },
     "execution_count": 25,
     "metadata": {},
     "output_type": "execute_result"
    }
   ],
   "source": [
    "x.grad"
   ]
  },
  {
   "cell_type": "code",
   "execution_count": 26,
   "id": "aaabe279-e382-49d7-9607-4d827535c769",
   "metadata": {},
   "outputs": [
    {
     "data": {
      "text/plain": [
       "tensor([[1.8649, 1.8649],\n",
       "        [0.0000, 0.0000],\n",
       "        [0.0000, 0.0000],\n",
       "        [0.0000, 1.1377],\n",
       "        [3.5724, 0.0000]], grad_fn=<DivBackward0>)"
      ]
     },
     "execution_count": 26,
     "metadata": {},
     "output_type": "execute_result"
    }
   ],
   "source": [
    "y"
   ]
  },
  {
   "cell_type": "code",
   "execution_count": 27,
   "id": "ea633dfa-fb53-4f52-8e6f-9e3ac4c9841d",
   "metadata": {},
   "outputs": [
    {
     "data": {
      "text/plain": [
       "tensor([[2., 0.],\n",
       "        [2., 0.],\n",
       "        [2., 0.],\n",
       "        [2., 0.],\n",
       "        [0., 2.]], grad_fn=<MulBackward0>)"
      ]
     },
     "execution_count": 27,
     "metadata": {},
     "output_type": "execute_result"
    }
   ],
   "source": [
    "Y = torch.nn.functional.dropout(x, p=0.5)\n",
    "Y"
   ]
  },
  {
   "cell_type": "code",
   "execution_count": 28,
   "id": "9bb43981-afcc-4774-8f15-fccb67969512",
   "metadata": {},
   "outputs": [
    {
     "data": {
      "text/plain": [
       "tensor([[2., 0.],\n",
       "        [2., 0.],\n",
       "        [2., 0.],\n",
       "        [2., 0.],\n",
       "        [0., 2.]])"
      ]
     },
     "execution_count": 28,
     "metadata": {},
     "output_type": "execute_result"
    }
   ],
   "source": [
    "x.grad.zero_()\n",
    "Y.sum().backward()\n",
    "x.grad"
   ]
  },
  {
   "cell_type": "code",
   "execution_count": null,
   "id": "61badb4b-f3b1-4908-8fed-7552f8df2197",
   "metadata": {},
   "outputs": [],
   "source": []
  }
 ],
 "metadata": {
  "kernelspec": {
   "display_name": "Python 3 (ipykernel)",
   "language": "python",
   "name": "python3"
  },
  "language_info": {
   "codemirror_mode": {
    "name": "ipython",
    "version": 3
   },
   "file_extension": ".py",
   "mimetype": "text/x-python",
   "name": "python",
   "nbconvert_exporter": "python",
   "pygments_lexer": "ipython3",
   "version": "3.10.9"
  }
 },
 "nbformat": 4,
 "nbformat_minor": 5
}
