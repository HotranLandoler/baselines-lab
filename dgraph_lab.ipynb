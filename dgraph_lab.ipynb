{
 "cells": [
  {
   "cell_type": "code",
   "execution_count": 1,
   "id": "0a194adb-decd-46ee-966e-875f33662d98",
   "metadata": {},
   "outputs": [],
   "source": [
    "import numpy as np\n",
    "import torch\n",
    "from cogdl.data import Graph\n",
    "from cogdl.models.nn.gcn import GCN"
   ]
  },
  {
   "cell_type": "code",
   "execution_count": 2,
   "id": "cf5ff486-073a-48b0-9d7c-0a352ed455bd",
   "metadata": {},
   "outputs": [],
   "source": [
    "data_file = np.load(\"data/DGraph/raw/dgraphfin.npz\")"
   ]
  },
  {
   "cell_type": "code",
   "execution_count": 3,
   "id": "3d5ce551-62bb-4e76-b9d7-457271dcdf61",
   "metadata": {},
   "outputs": [],
   "source": [
    "import data_processing"
   ]
  },
  {
   "cell_type": "code",
   "execution_count": 4,
   "id": "708b68d3-28cd-4018-a18c-097d5317decb",
   "metadata": {},
   "outputs": [],
   "source": [
    "dataset: Graph = data_processing.DGraphDataset()[0]\n",
    "model = GCN(in_feats=dataset.num_features, hidden_size=64,\n",
    "            out_feats=2, dropout=0.0, num_layers=2)"
   ]
  },
  {
   "cell_type": "code",
   "execution_count": 5,
   "id": "a0bcb125-acb9-45be-b02a-1dc0b9c2121e",
   "metadata": {},
   "outputs": [
    {
     "data": {
      "text/plain": [
       "tensor([[0., 0.],\n",
       "        [0., 0.],\n",
       "        [0., 0.],\n",
       "        ...,\n",
       "        [0., 0.],\n",
       "        [0., 0.],\n",
       "        [0., 0.]], grad_fn=<ScatterAddBackward0>)"
      ]
     },
     "execution_count": 5,
     "metadata": {},
     "output_type": "execute_result"
    }
   ],
   "source": [
    "model.train()\n",
    "output = model(dataset)\n",
    "output"
   ]
  },
  {
   "cell_type": "code",
   "execution_count": 6,
   "id": "4eec3a7e-f265-43cd-9f0f-2b23d4662939",
   "metadata": {},
   "outputs": [
    {
     "data": {
      "text/plain": [
       "torch.Size([183862, 2])"
      ]
     },
     "execution_count": 6,
     "metadata": {},
     "output_type": "execute_result"
    }
   ],
   "source": [
    "output[dataset.val_mask].shape"
   ]
  },
  {
   "cell_type": "code",
   "execution_count": 7,
   "id": "f1560662-a741-44dc-af2e-cb002664c939",
   "metadata": {},
   "outputs": [
    {
     "data": {
      "text/plain": [
       "torch.Size([183862])"
      ]
     },
     "execution_count": 7,
     "metadata": {},
     "output_type": "execute_result"
    }
   ],
   "source": [
    "dataset.y[dataset.val_mask].shape"
   ]
  },
  {
   "cell_type": "code",
   "execution_count": 8,
   "id": "498d1746-4453-49fe-852c-071b0da7ce7b",
   "metadata": {},
   "outputs": [
    {
     "data": {
      "text/plain": [
       "tensor([[ 0.,  5., -1.,  ..., -1., -1., -1.],\n",
       "        [-1., -1., -1.,  ..., -1., -1., -1.],\n",
       "        [ 0.,  5., -1.,  ..., -1., -1., -1.],\n",
       "        ...,\n",
       "        [-1., -1., -1.,  ..., -1., -1., -1.],\n",
       "        [-1., -1., -1.,  ..., -1., -1., -1.],\n",
       "        [-1., -1., -1.,  ..., -1., -1., -1.]])"
      ]
     },
     "execution_count": 8,
     "metadata": {},
     "output_type": "execute_result"
    }
   ],
   "source": [
    "dataset.x"
   ]
  },
  {
   "cell_type": "code",
   "execution_count": 9,
   "id": "a53da8a7-a8a3-4dc8-8396-184e28fa2b34",
   "metadata": {},
   "outputs": [
    {
     "data": {
      "text/plain": [
       "tensor([[-0.6881,  0.7298, -0.6371, -0.6409, -0.9152, -0.5998, -0.5686, -0.7932,\n",
       "         -0.5690, -0.9180, -0.3009, -0.8426, -0.8469, -0.8494, -0.8061, -0.6192,\n",
       "         -0.6086],\n",
       "        [-2.0435, -1.5475, -0.6371, -0.6409, -0.9152, -0.5998, -0.5686, -0.7932,\n",
       "         -0.5690, -0.9180, -0.3009, -0.8426, -0.8469, -0.8494, -0.8061, -0.6192,\n",
       "         -0.6086],\n",
       "        [-0.6881,  0.7298, -0.6371, -0.6409, -0.9152, -0.5998, -0.5686, -0.7932,\n",
       "         -0.5690, -0.9180, -0.3009, -0.8426, -0.8469, -0.8494, -0.8061, -0.6192,\n",
       "         -0.6086],\n",
       "        [ 0.6673,  0.7298, -0.6371, -0.6409, -0.9152, -0.5998, -0.5686, -0.7932,\n",
       "         -0.5690, -0.9180, -0.3009, -0.8426, -0.8469, -0.8494, -0.8061, -0.6192,\n",
       "         -0.6086],\n",
       "        [ 0.6673,  1.4890, -0.6371, -0.6409, -0.9152, -0.5998, -0.5686, -0.7932,\n",
       "         -0.5690, -0.9180, -0.3009, -0.8426, -0.8469, -0.8494, -0.8061, -0.6192,\n",
       "         -0.6086]])"
      ]
     },
     "execution_count": 9,
     "metadata": {},
     "output_type": "execute_result"
    }
   ],
   "source": [
    "x = dataset.x\n",
    "x = (x-x.mean(0))/x.std(0)\n",
    "dataset.x = x\n",
    "dataset.x[:5]"
   ]
  },
  {
   "cell_type": "code",
   "execution_count": 10,
   "id": "9127f009-f376-4fc8-a309-f31354aec27c",
   "metadata": {},
   "outputs": [
    {
     "data": {
      "text/plain": [
       "False"
      ]
     },
     "execution_count": 10,
     "metadata": {},
     "output_type": "execute_result"
    }
   ],
   "source": [
    "dataset.y.dim()==2"
   ]
  },
  {
   "cell_type": "code",
   "execution_count": 16,
   "id": "240381d5-95e2-4185-a996-2cba437b668e",
   "metadata": {},
   "outputs": [
    {
     "ename": "IndexError",
     "evalue": "tuple index out of range",
     "output_type": "error",
     "traceback": [
      "\u001b[0;31m---------------------------------------------------------------------------\u001b[0m",
      "\u001b[0;31mIndexError\u001b[0m                                Traceback (most recent call last)",
      "\u001b[0;32m/tmp/ipykernel_63834/338524913.py\u001b[0m in \u001b[0;36m<module>\u001b[0;34m\u001b[0m\n\u001b[1;32m      1\u001b[0m \u001b[0msplit_idx\u001b[0m \u001b[0;34m=\u001b[0m \u001b[0;34m{\u001b[0m\u001b[0;34m'train'\u001b[0m\u001b[0;34m:\u001b[0m\u001b[0mdataset\u001b[0m\u001b[0;34m.\u001b[0m\u001b[0mtrain_mask\u001b[0m\u001b[0;34m,\u001b[0m \u001b[0;34m'valid'\u001b[0m\u001b[0;34m:\u001b[0m\u001b[0mdataset\u001b[0m\u001b[0;34m.\u001b[0m\u001b[0mval_mask\u001b[0m\u001b[0;34m,\u001b[0m \u001b[0;34m'test'\u001b[0m\u001b[0;34m:\u001b[0m\u001b[0mdataset\u001b[0m\u001b[0;34m.\u001b[0m\u001b[0mtest_mask\u001b[0m\u001b[0;34m}\u001b[0m\u001b[0;34m\u001b[0m\u001b[0;34m\u001b[0m\u001b[0m\n\u001b[0;32m----> 2\u001b[0;31m \u001b[0msplit_idx\u001b[0m\u001b[0;34m[\u001b[0m\u001b[0;34m'train'\u001b[0m\u001b[0;34m]\u001b[0m\u001b[0;34m.\u001b[0m\u001b[0mshape\u001b[0m\u001b[0;34m[\u001b[0m\u001b[0;36m1\u001b[0m\u001b[0;34m]\u001b[0m\u001b[0;34m\u001b[0m\u001b[0;34m\u001b[0m\u001b[0m\n\u001b[0m",
      "\u001b[0;31mIndexError\u001b[0m: tuple index out of range"
     ]
    }
   ],
   "source": [
    "split_idx = {'train':dataset.train_mask, 'valid':dataset.val_mask, 'test':dataset.test_mask}\n",
    "split_idx['train'].shape[1]"
   ]
  },
  {
   "cell_type": "code",
   "execution_count": 17,
   "id": "cf4f3634-338e-4a14-9f78-23ebdc1089d2",
   "metadata": {},
   "outputs": [
    {
     "data": {
      "text/plain": [
       "(17, 17)"
      ]
     },
     "execution_count": 17,
     "metadata": {},
     "output_type": "execute_result"
    }
   ],
   "source": [
    "dataset.x.size(-1), dataset.num_features"
   ]
  },
  {
   "cell_type": "code",
   "execution_count": null,
   "id": "03e9a7a9-b062-4098-93bb-0e907913a8af",
   "metadata": {},
   "outputs": [],
   "source": []
  }
 ],
 "metadata": {
  "kernelspec": {
   "display_name": "Python 3 (ipykernel)",
   "language": "python",
   "name": "python3"
  },
  "language_info": {
   "codemirror_mode": {
    "name": "ipython",
    "version": 3
   },
   "file_extension": ".py",
   "mimetype": "text/x-python",
   "name": "python",
   "nbconvert_exporter": "python",
   "pygments_lexer": "ipython3",
   "version": "3.9.13"
  }
 },
 "nbformat": 4,
 "nbformat_minor": 5
}
