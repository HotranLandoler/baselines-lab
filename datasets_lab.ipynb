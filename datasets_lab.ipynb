{
 "cells": [
  {
   "cell_type": "code",
   "execution_count": 1,
   "id": "f993d508-dca5-4ea5-97ae-6f93f79415cc",
   "metadata": {},
   "outputs": [],
   "source": [
    "import data_processing\n",
    "import torch\n",
    "import numpy as np\n",
    "import torch_geometric\n",
    "import pandas as pd"
   ]
  },
  {
   "cell_type": "code",
   "execution_count": 65,
   "id": "6ab94c07-b451-4d93-bd19-1e353e394957",
   "metadata": {},
   "outputs": [
    {
     "data": {
      "text/plain": [
       "tensor([False, False, False,  ...,  True,  True,  True])"
      ]
     },
     "execution_count": 65,
     "metadata": {},
     "output_type": "execute_result"
    }
   ],
   "source": [
    "mask = torch.zeros(wiki.num_nodes, dtype=torch.int)\n",
    "mask[:6459] = 0\n",
    "mask[6459:7844] = 1\n",
    "mask[7844:] = 2\n",
    "indexes = torch.randperm(mask.nelement())\n",
    "mask[indexes] == 0"
   ]
  },
  {
   "cell_type": "code",
   "execution_count": 3,
   "id": "87c78750-5214-4944-b1ec-8f7f360dd223",
   "metadata": {},
   "outputs": [],
   "source": [
    "u_list, i_list, ts_list, label_list = [], [], [], []\n",
    "feat_l = []\n",
    "idx_list = []"
   ]
  },
  {
   "cell_type": "code",
   "execution_count": 5,
   "id": "046f759a-b7eb-4ffb-9d11-4386dd9368fd",
   "metadata": {},
   "outputs": [
    {
     "name": "stdout",
     "output_type": "stream",
     "text": [
      "user_id,item_id,timestamp,state_label,comma_separated_list_of_features\n",
      "\n"
     ]
    }
   ],
   "source": [
    "with open(\"data/wikipedia/raw/wikipedia.csv\") as f:\n",
    "    s = next(f)\n",
    "    print(s)\n",
    "    for idx, line in enumerate(f):\n",
    "        e = line.strip().split(',')\n",
    "        u = int(e[0])\n",
    "        i = int(e[1])\n",
    "\n",
    "        ts = float(e[2])\n",
    "        label = int(e[3])\n",
    "\n",
    "        feat = np.array([float(x) for x in e[4:]])\n",
    "\n",
    "        u_list.append(u)\n",
    "        i_list.append(i)\n",
    "        ts_list.append(ts)\n",
    "        label_list.append(label)\n",
    "        idx_list.append(idx)\n",
    "\n",
    "        feat_l.append(feat)"
   ]
  },
  {
   "cell_type": "code",
   "execution_count": 10,
   "id": "44425e10-2171-4614-bd12-70dc55db2320",
   "metadata": {},
   "outputs": [
    {
     "data": {
      "text/html": [
       "<div>\n",
       "<style scoped>\n",
       "    .dataframe tbody tr th:only-of-type {\n",
       "        vertical-align: middle;\n",
       "    }\n",
       "\n",
       "    .dataframe tbody tr th {\n",
       "        vertical-align: top;\n",
       "    }\n",
       "\n",
       "    .dataframe thead th {\n",
       "        text-align: right;\n",
       "    }\n",
       "</style>\n",
       "<table border=\"1\" class=\"dataframe\">\n",
       "  <thead>\n",
       "    <tr style=\"text-align: right;\">\n",
       "      <th></th>\n",
       "      <th>u</th>\n",
       "      <th>i</th>\n",
       "      <th>ts</th>\n",
       "      <th>label</th>\n",
       "      <th>idx</th>\n",
       "    </tr>\n",
       "  </thead>\n",
       "  <tbody>\n",
       "    <tr>\n",
       "      <th>0</th>\n",
       "      <td>0</td>\n",
       "      <td>0</td>\n",
       "      <td>0.0</td>\n",
       "      <td>0</td>\n",
       "      <td>0</td>\n",
       "    </tr>\n",
       "    <tr>\n",
       "      <th>1</th>\n",
       "      <td>1</td>\n",
       "      <td>1</td>\n",
       "      <td>36.0</td>\n",
       "      <td>0</td>\n",
       "      <td>1</td>\n",
       "    </tr>\n",
       "    <tr>\n",
       "      <th>2</th>\n",
       "      <td>1</td>\n",
       "      <td>1</td>\n",
       "      <td>77.0</td>\n",
       "      <td>0</td>\n",
       "      <td>2</td>\n",
       "    </tr>\n",
       "    <tr>\n",
       "      <th>3</th>\n",
       "      <td>2</td>\n",
       "      <td>2</td>\n",
       "      <td>131.0</td>\n",
       "      <td>0</td>\n",
       "      <td>3</td>\n",
       "    </tr>\n",
       "    <tr>\n",
       "      <th>4</th>\n",
       "      <td>1</td>\n",
       "      <td>1</td>\n",
       "      <td>150.0</td>\n",
       "      <td>0</td>\n",
       "      <td>4</td>\n",
       "    </tr>\n",
       "    <tr>\n",
       "      <th>...</th>\n",
       "      <td>...</td>\n",
       "      <td>...</td>\n",
       "      <td>...</td>\n",
       "      <td>...</td>\n",
       "      <td>...</td>\n",
       "    </tr>\n",
       "    <tr>\n",
       "      <th>157469</th>\n",
       "      <td>2003</td>\n",
       "      <td>632</td>\n",
       "      <td>2678155.0</td>\n",
       "      <td>0</td>\n",
       "      <td>157469</td>\n",
       "    </tr>\n",
       "    <tr>\n",
       "      <th>157470</th>\n",
       "      <td>3762</td>\n",
       "      <td>798</td>\n",
       "      <td>2678158.0</td>\n",
       "      <td>0</td>\n",
       "      <td>157470</td>\n",
       "    </tr>\n",
       "    <tr>\n",
       "      <th>157471</th>\n",
       "      <td>2399</td>\n",
       "      <td>495</td>\n",
       "      <td>2678293.0</td>\n",
       "      <td>0</td>\n",
       "      <td>157471</td>\n",
       "    </tr>\n",
       "    <tr>\n",
       "      <th>157472</th>\n",
       "      <td>7479</td>\n",
       "      <td>920</td>\n",
       "      <td>2678333.0</td>\n",
       "      <td>0</td>\n",
       "      <td>157472</td>\n",
       "    </tr>\n",
       "    <tr>\n",
       "      <th>157473</th>\n",
       "      <td>2399</td>\n",
       "      <td>495</td>\n",
       "      <td>2678373.0</td>\n",
       "      <td>0</td>\n",
       "      <td>157473</td>\n",
       "    </tr>\n",
       "  </tbody>\n",
       "</table>\n",
       "<p>157474 rows × 5 columns</p>\n",
       "</div>"
      ],
      "text/plain": [
       "           u    i         ts  label     idx\n",
       "0          0    0        0.0      0       0\n",
       "1          1    1       36.0      0       1\n",
       "2          1    1       77.0      0       2\n",
       "3          2    2      131.0      0       3\n",
       "4          1    1      150.0      0       4\n",
       "...      ...  ...        ...    ...     ...\n",
       "157469  2003  632  2678155.0      0  157469\n",
       "157470  3762  798  2678158.0      0  157470\n",
       "157471  2399  495  2678293.0      0  157471\n",
       "157472  7479  920  2678333.0      0  157472\n",
       "157473  2399  495  2678373.0      0  157473\n",
       "\n",
       "[157474 rows x 5 columns]"
      ]
     },
     "execution_count": 10,
     "metadata": {},
     "output_type": "execute_result"
    }
   ],
   "source": [
    "df = pd.DataFrame({'u': u_list, \n",
    "                         'i':i_list, \n",
    "                         'ts':ts_list, \n",
    "                         'label':label_list, \n",
    "                         'idx':idx_list})\n",
    "df"
   ]
  },
  {
   "cell_type": "code",
   "execution_count": 32,
   "id": "a3fbccec-2a4f-4e20-9474-1b0705100f49",
   "metadata": {},
   "outputs": [
    {
     "data": {
      "text/plain": [
       "array([[-0.17506251, -0.17667764, -0.93709077, ..., -0.05046383,\n",
       "        -0.04144796, -0.03877482],\n",
       "       [-0.17506251, -0.17667764, -0.93709077, ..., -0.05046383,\n",
       "        -0.04144796, -0.03877482],\n",
       "       [-0.17506251, -0.17667764, -0.93709077, ..., -0.05046383,\n",
       "        -0.04144796, -0.03877482],\n",
       "       ...,\n",
       "       [ 0.27344377,  0.30081117,  1.12243376, ..., -0.05046383,\n",
       "        -0.04144796, -0.03877482],\n",
       "       [-0.17506251, -0.17667764, -0.93709077, ..., -0.05046383,\n",
       "        -0.04144796, -0.03877482],\n",
       "       [-0.17506251, -0.17667764, -0.93709077, ..., -0.05046383,\n",
       "        -0.04144796, -0.03877482]])"
      ]
     },
     "execution_count": 32,
     "metadata": {},
     "output_type": "execute_result"
    }
   ],
   "source": [
    "feat = np.array(feat_l)\n",
    "feat"
   ]
  },
  {
   "cell_type": "code",
   "execution_count": 14,
   "id": "7cbb50d7-8ab1-40b2-a972-8f3f1458c2be",
   "metadata": {},
   "outputs": [
    {
     "data": {
      "text/plain": [
       "(157474, 172)"
      ]
     },
     "execution_count": 14,
     "metadata": {},
     "output_type": "execute_result"
    }
   ],
   "source": [
    "feat.shape"
   ]
  },
  {
   "cell_type": "code",
   "execution_count": 22,
   "id": "00eacec5-b8d5-4fe2-9904-7f24749f7e92",
   "metadata": {},
   "outputs": [
    {
     "data": {
      "text/plain": [
       "(0           0\n",
       " 1           1\n",
       " 2           1\n",
       " 3           2\n",
       " 4           1\n",
       "          ... \n",
       " 157469    632\n",
       " 157470    798\n",
       " 157471    495\n",
       " 157472    920\n",
       " 157473    495\n",
       " Name: i, Length: 157474, dtype: int64,\n",
       " 0         8227\n",
       " 1         8228\n",
       " 2         8228\n",
       " 3         8229\n",
       " 4         8228\n",
       "           ... \n",
       " 157469    8859\n",
       " 157470    9025\n",
       " 157471    8722\n",
       " 157472    9147\n",
       " 157473    8722\n",
       " Name: i, Length: 157474, dtype: int64)"
      ]
     },
     "execution_count": 22,
     "metadata": {},
     "output_type": "execute_result"
    }
   ],
   "source": [
    "upper_u = df.u.max() + 1\n",
    "new_i = df.i + upper_u\n",
    "df.i, new_i"
   ]
  },
  {
   "cell_type": "code",
   "execution_count": 24,
   "id": "1f86aae4-ba8d-4a6b-88f0-25539d3b901f",
   "metadata": {},
   "outputs": [
    {
     "data": {
      "text/html": [
       "<div>\n",
       "<style scoped>\n",
       "    .dataframe tbody tr th:only-of-type {\n",
       "        vertical-align: middle;\n",
       "    }\n",
       "\n",
       "    .dataframe tbody tr th {\n",
       "        vertical-align: top;\n",
       "    }\n",
       "\n",
       "    .dataframe thead th {\n",
       "        text-align: right;\n",
       "    }\n",
       "</style>\n",
       "<table border=\"1\" class=\"dataframe\">\n",
       "  <thead>\n",
       "    <tr style=\"text-align: right;\">\n",
       "      <th></th>\n",
       "      <th>u</th>\n",
       "      <th>i</th>\n",
       "      <th>ts</th>\n",
       "      <th>label</th>\n",
       "      <th>idx</th>\n",
       "    </tr>\n",
       "  </thead>\n",
       "  <tbody>\n",
       "    <tr>\n",
       "      <th>0</th>\n",
       "      <td>1</td>\n",
       "      <td>8228</td>\n",
       "      <td>0.0</td>\n",
       "      <td>0</td>\n",
       "      <td>1</td>\n",
       "    </tr>\n",
       "    <tr>\n",
       "      <th>1</th>\n",
       "      <td>2</td>\n",
       "      <td>8229</td>\n",
       "      <td>36.0</td>\n",
       "      <td>0</td>\n",
       "      <td>2</td>\n",
       "    </tr>\n",
       "    <tr>\n",
       "      <th>2</th>\n",
       "      <td>2</td>\n",
       "      <td>8229</td>\n",
       "      <td>77.0</td>\n",
       "      <td>0</td>\n",
       "      <td>3</td>\n",
       "    </tr>\n",
       "    <tr>\n",
       "      <th>3</th>\n",
       "      <td>3</td>\n",
       "      <td>8230</td>\n",
       "      <td>131.0</td>\n",
       "      <td>0</td>\n",
       "      <td>4</td>\n",
       "    </tr>\n",
       "    <tr>\n",
       "      <th>4</th>\n",
       "      <td>2</td>\n",
       "      <td>8229</td>\n",
       "      <td>150.0</td>\n",
       "      <td>0</td>\n",
       "      <td>5</td>\n",
       "    </tr>\n",
       "    <tr>\n",
       "      <th>...</th>\n",
       "      <td>...</td>\n",
       "      <td>...</td>\n",
       "      <td>...</td>\n",
       "      <td>...</td>\n",
       "      <td>...</td>\n",
       "    </tr>\n",
       "    <tr>\n",
       "      <th>157469</th>\n",
       "      <td>2004</td>\n",
       "      <td>8860</td>\n",
       "      <td>2678155.0</td>\n",
       "      <td>0</td>\n",
       "      <td>157470</td>\n",
       "    </tr>\n",
       "    <tr>\n",
       "      <th>157470</th>\n",
       "      <td>3763</td>\n",
       "      <td>9026</td>\n",
       "      <td>2678158.0</td>\n",
       "      <td>0</td>\n",
       "      <td>157471</td>\n",
       "    </tr>\n",
       "    <tr>\n",
       "      <th>157471</th>\n",
       "      <td>2400</td>\n",
       "      <td>8723</td>\n",
       "      <td>2678293.0</td>\n",
       "      <td>0</td>\n",
       "      <td>157472</td>\n",
       "    </tr>\n",
       "    <tr>\n",
       "      <th>157472</th>\n",
       "      <td>7480</td>\n",
       "      <td>9148</td>\n",
       "      <td>2678333.0</td>\n",
       "      <td>0</td>\n",
       "      <td>157473</td>\n",
       "    </tr>\n",
       "    <tr>\n",
       "      <th>157473</th>\n",
       "      <td>2400</td>\n",
       "      <td>8723</td>\n",
       "      <td>2678373.0</td>\n",
       "      <td>0</td>\n",
       "      <td>157474</td>\n",
       "    </tr>\n",
       "  </tbody>\n",
       "</table>\n",
       "<p>157474 rows × 5 columns</p>\n",
       "</div>"
      ],
      "text/plain": [
       "           u     i         ts  label     idx\n",
       "0          1  8228        0.0      0       1\n",
       "1          2  8229       36.0      0       2\n",
       "2          2  8229       77.0      0       3\n",
       "3          3  8230      131.0      0       4\n",
       "4          2  8229      150.0      0       5\n",
       "...      ...   ...        ...    ...     ...\n",
       "157469  2004  8860  2678155.0      0  157470\n",
       "157470  3763  9026  2678158.0      0  157471\n",
       "157471  2400  8723  2678293.0      0  157472\n",
       "157472  7480  9148  2678333.0      0  157473\n",
       "157473  2400  8723  2678373.0      0  157474\n",
       "\n",
       "[157474 rows x 5 columns]"
      ]
     },
     "execution_count": 24,
     "metadata": {},
     "output_type": "execute_result"
    }
   ],
   "source": [
    "new_df = df.copy()\n",
    "new_df.i = new_i\n",
    "new_df.u += 1\n",
    "new_df.i += 1\n",
    "new_df.idx += 1\n",
    "new_df"
   ]
  },
  {
   "cell_type": "code",
   "execution_count": 28,
   "id": "e1320637-5a67-4318-ac7c-d55ded4853b3",
   "metadata": {},
   "outputs": [
    {
     "data": {
      "text/plain": [
       "(1, 172)"
      ]
     },
     "execution_count": 28,
     "metadata": {},
     "output_type": "execute_result"
    }
   ],
   "source": [
    "empty = np.zeros(feat.shape[1])[np.newaxis, :]\n",
    "empty.shape"
   ]
  },
  {
   "cell_type": "code",
   "execution_count": 33,
   "id": "78e3428e-8106-4b8e-b8a4-f3818a51dfcf",
   "metadata": {},
   "outputs": [
    {
     "data": {
      "text/plain": [
       "(array([[ 0.        ,  0.        ,  0.        , ...,  0.        ,\n",
       "          0.        ,  0.        ],\n",
       "        [-0.17506251, -0.17667764, -0.93709077, ..., -0.05046383,\n",
       "         -0.04144796, -0.03877482],\n",
       "        [-0.17506251, -0.17667764, -0.93709077, ..., -0.05046383,\n",
       "         -0.04144796, -0.03877482],\n",
       "        ...,\n",
       "        [ 0.27344377,  0.30081117,  1.12243376, ..., -0.05046383,\n",
       "         -0.04144796, -0.03877482],\n",
       "        [-0.17506251, -0.17667764, -0.93709077, ..., -0.05046383,\n",
       "         -0.04144796, -0.03877482],\n",
       "        [-0.17506251, -0.17667764, -0.93709077, ..., -0.05046383,\n",
       "         -0.04144796, -0.03877482]]),\n",
       " (157475, 172))"
      ]
     },
     "execution_count": 33,
     "metadata": {},
     "output_type": "execute_result"
    }
   ],
   "source": [
    "feat = np.vstack([empty, feat])\n",
    "feat, feat.shape"
   ]
  },
  {
   "cell_type": "code",
   "execution_count": 34,
   "id": "ade5e21d-176c-4583-9622-b209c0ab450d",
   "metadata": {},
   "outputs": [
    {
     "data": {
      "text/plain": [
       "9227"
      ]
     },
     "execution_count": 34,
     "metadata": {},
     "output_type": "execute_result"
    }
   ],
   "source": [
    "max_idx = max(new_df.u.max(), new_df.i.max())\n",
    "max_idx"
   ]
  },
  {
   "cell_type": "code",
   "execution_count": 35,
   "id": "23ccd934-7bfc-41f2-a46a-248cb7ef4c62",
   "metadata": {},
   "outputs": [
    {
     "data": {
      "text/plain": [
       "array([[0., 0., 0., ..., 0., 0., 0.],\n",
       "       [0., 0., 0., ..., 0., 0., 0.],\n",
       "       [0., 0., 0., ..., 0., 0., 0.],\n",
       "       ...,\n",
       "       [0., 0., 0., ..., 0., 0., 0.],\n",
       "       [0., 0., 0., ..., 0., 0., 0.],\n",
       "       [0., 0., 0., ..., 0., 0., 0.]])"
      ]
     },
     "execution_count": 35,
     "metadata": {},
     "output_type": "execute_result"
    }
   ],
   "source": [
    "rand_feat = np.zeros((max_idx + 1, feat.shape[1]))\n",
    "rand_feat"
   ]
  },
  {
   "cell_type": "code",
   "execution_count": 36,
   "id": "195aa9e3-c5a7-4179-b4b6-06657d8bf2e1",
   "metadata": {},
   "outputs": [
    {
     "data": {
      "text/plain": [
       "(9228, 172)"
      ]
     },
     "execution_count": 36,
     "metadata": {},
     "output_type": "execute_result"
    }
   ],
   "source": [
    "rand_feat.shape"
   ]
  },
  {
   "cell_type": "code",
   "execution_count": 43,
   "id": "837eb247-1793-4aa8-9583-c5cb2c33c41d",
   "metadata": {},
   "outputs": [
    {
     "data": {
      "text/plain": [
       "(8227, 9227)"
      ]
     },
     "execution_count": 43,
     "metadata": {},
     "output_type": "execute_result"
    }
   ],
   "source": [
    "new_df.u.values.max(), new_df.i.values.max()"
   ]
  },
  {
   "cell_type": "code",
   "execution_count": 48,
   "id": "9dc6d9d0-1d0e-4445-a622-ea41b777e22d",
   "metadata": {},
   "outputs": [
    {
     "data": {
      "text/plain": [
       "9227"
      ]
     },
     "execution_count": 48,
     "metadata": {},
     "output_type": "execute_result"
    }
   ],
   "source": [
    "len(set(np.unique(np.hstack([new_df.u.values, new_df.i.values]))))"
   ]
  },
  {
   "cell_type": "code",
   "execution_count": 2,
   "id": "d412e4a7-3a50-4c98-acb4-679f900bba2a",
   "metadata": {},
   "outputs": [
    {
     "data": {
      "text/plain": [
       "TemporalData(src=[157474], dst=[157474], t=[157474], msg=[157474, 172], y=[157474])"
      ]
     },
     "execution_count": 2,
     "metadata": {},
     "output_type": "execute_result"
    }
   ],
   "source": [
    "wiki = data_processing.get_jodie(\"Wikipedia\", None)\n",
    "wiki"
   ]
  },
  {
   "cell_type": "code",
   "execution_count": 13,
   "id": "404f68b2-8fa0-40cd-9b24-5a52fcdf3615",
   "metadata": {},
   "outputs": [],
   "source": [
    "import pandas as pd"
   ]
  },
  {
   "cell_type": "code",
   "execution_count": 14,
   "id": "b8ea8c76-9273-4d0b-b49b-2f835bf6d82e",
   "metadata": {},
   "outputs": [
    {
     "data": {
      "text/html": [
       "<div>\n",
       "<style scoped>\n",
       "    .dataframe tbody tr th:only-of-type {\n",
       "        vertical-align: middle;\n",
       "    }\n",
       "\n",
       "    .dataframe tbody tr th {\n",
       "        vertical-align: top;\n",
       "    }\n",
       "\n",
       "    .dataframe thead th {\n",
       "        text-align: right;\n",
       "    }\n",
       "</style>\n",
       "<table border=\"1\" class=\"dataframe\">\n",
       "  <thead>\n",
       "    <tr style=\"text-align: right;\">\n",
       "      <th></th>\n",
       "      <th>0</th>\n",
       "    </tr>\n",
       "  </thead>\n",
       "  <tbody>\n",
       "    <tr>\n",
       "      <th>0</th>\n",
       "      <td>0</td>\n",
       "    </tr>\n",
       "    <tr>\n",
       "      <th>1</th>\n",
       "      <td>0</td>\n",
       "    </tr>\n",
       "    <tr>\n",
       "      <th>2</th>\n",
       "      <td>0</td>\n",
       "    </tr>\n",
       "    <tr>\n",
       "      <th>3</th>\n",
       "      <td>0</td>\n",
       "    </tr>\n",
       "    <tr>\n",
       "      <th>4</th>\n",
       "      <td>0</td>\n",
       "    </tr>\n",
       "    <tr>\n",
       "      <th>...</th>\n",
       "      <td>...</td>\n",
       "    </tr>\n",
       "    <tr>\n",
       "      <th>157469</th>\n",
       "      <td>0</td>\n",
       "    </tr>\n",
       "    <tr>\n",
       "      <th>157470</th>\n",
       "      <td>0</td>\n",
       "    </tr>\n",
       "    <tr>\n",
       "      <th>157471</th>\n",
       "      <td>0</td>\n",
       "    </tr>\n",
       "    <tr>\n",
       "      <th>157472</th>\n",
       "      <td>0</td>\n",
       "    </tr>\n",
       "    <tr>\n",
       "      <th>157473</th>\n",
       "      <td>0</td>\n",
       "    </tr>\n",
       "  </tbody>\n",
       "</table>\n",
       "<p>157474 rows × 1 columns</p>\n",
       "</div>"
      ],
      "text/plain": [
       "        0\n",
       "0       0\n",
       "1       0\n",
       "2       0\n",
       "3       0\n",
       "4       0\n",
       "...    ..\n",
       "157469  0\n",
       "157470  0\n",
       "157471  0\n",
       "157472  0\n",
       "157473  0\n",
       "\n",
       "[157474 rows x 1 columns]"
      ]
     },
     "execution_count": 14,
     "metadata": {},
     "output_type": "execute_result"
    }
   ],
   "source": [
    "y_df = pd.DataFrame(wiki.y)\n",
    "y_df"
   ]
  },
  {
   "cell_type": "code",
   "execution_count": 15,
   "id": "d92901df-fe4e-4edb-984a-3e58e756dd7e",
   "metadata": {},
   "outputs": [
    {
     "data": {
      "text/plain": [
       "0    157257\n",
       "1       217\n",
       "dtype: int64"
      ]
     },
     "execution_count": 15,
     "metadata": {},
     "output_type": "execute_result"
    }
   ],
   "source": [
    "y_df.value_counts()"
   ]
  },
  {
   "cell_type": "code",
   "execution_count": 22,
   "id": "cf89d61b-4b5f-414e-aae8-5e1e1a6b2a04",
   "metadata": {},
   "outputs": [
    {
     "data": {
      "text/plain": [
       "(TemporalData(src=[110232], dst=[110232], t=[110232], msg=[110232, 172], y=[110232]),\n",
       " TemporalData(src=[23621], dst=[23621], t=[23621], msg=[23621, 172], y=[23621]),\n",
       " TemporalData(src=[23621], dst=[23621], t=[23621], msg=[23621, 172], y=[23621]))"
      ]
     },
     "execution_count": 22,
     "metadata": {},
     "output_type": "execute_result"
    }
   ],
   "source": [
    "wiki.train_val_test_split()"
   ]
  },
  {
   "cell_type": "code",
   "execution_count": 23,
   "id": "386eefb9-5fde-4725-ac34-19dc483c9fca",
   "metadata": {},
   "outputs": [
    {
     "data": {
      "text/plain": [
       "tensor([      0,      36,      77,  ..., 2678293, 2678333, 2678373])"
      ]
     },
     "execution_count": 23,
     "metadata": {},
     "output_type": "execute_result"
    }
   ],
   "source": [
    "wiki.t"
   ]
  },
  {
   "cell_type": "code",
   "execution_count": 5,
   "id": "3cbe3664-4e7c-48de-96c5-601b66de5652",
   "metadata": {},
   "outputs": [
    {
     "data": {
      "text/plain": [
       "tensor([[      0],\n",
       "        [     36],\n",
       "        [     77],\n",
       "        ...,\n",
       "        [2678293],\n",
       "        [2678333],\n",
       "        [2678373]])"
      ]
     },
     "execution_count": 5,
     "metadata": {},
     "output_type": "execute_result"
    }
   ],
   "source": [
    "edge_time = wiki.t.view(-1,1)\n",
    "edge_time"
   ]
  },
  {
   "cell_type": "code",
   "execution_count": 6,
   "id": "60a15143-8a98-4eb0-83d5-38395b54cbcc",
   "metadata": {},
   "outputs": [
    {
     "data": {
      "text/plain": [
       "tensor([[   0,    1,    1,  ..., 2399, 7479, 2399],\n",
       "        [8227, 8228, 8228,  ..., 8722, 9147, 8722]])"
      ]
     },
     "execution_count": 6,
     "metadata": {},
     "output_type": "execute_result"
    }
   ],
   "source": [
    "edge_index = torch.stack((wiki.src, wiki.dst))\n",
    "edge_index"
   ]
  },
  {
   "cell_type": "code",
   "execution_count": 7,
   "id": "eab0ae4e-ae56-4e5c-a882-135e00c5e8cd",
   "metadata": {},
   "outputs": [
    {
     "data": {
      "text/plain": [
       "tensor([[      0,       1,       1,  ...,    2399,    7479,    2399],\n",
       "        [   8227,    8228,    8228,  ...,    8722,    9147,    8722],\n",
       "        [      0,      36,      77,  ..., 2678293, 2678333, 2678373]])"
      ]
     },
     "execution_count": 7,
     "metadata": {},
     "output_type": "execute_result"
    }
   ],
   "source": [
    "edge = torch.cat([edge_index, edge_time.view(1,-1)])\n",
    "edge"
   ]
  },
  {
   "cell_type": "code",
   "execution_count": 8,
   "id": "0aa44cdc-e212-42ff-929a-5ed44df36bef",
   "metadata": {},
   "outputs": [],
   "source": [
    "import pandas as pd"
   ]
  },
  {
   "cell_type": "code",
   "execution_count": 16,
   "id": "8347b42e-cf58-4027-b1da-e8588f22fa41",
   "metadata": {},
   "outputs": [
    {
     "data": {
      "text/html": [
       "<div>\n",
       "<style scoped>\n",
       "    .dataframe tbody tr th:only-of-type {\n",
       "        vertical-align: middle;\n",
       "    }\n",
       "\n",
       "    .dataframe tbody tr th {\n",
       "        vertical-align: top;\n",
       "    }\n",
       "\n",
       "    .dataframe thead th {\n",
       "        text-align: right;\n",
       "    }\n",
       "</style>\n",
       "<table border=\"1\" class=\"dataframe\">\n",
       "  <thead>\n",
       "    <tr style=\"text-align: right;\">\n",
       "      <th></th>\n",
       "      <th>1</th>\n",
       "      <th>2</th>\n",
       "    </tr>\n",
       "    <tr>\n",
       "      <th>0</th>\n",
       "      <th></th>\n",
       "      <th></th>\n",
       "    </tr>\n",
       "  </thead>\n",
       "  <tbody>\n",
       "    <tr>\n",
       "      <th>0</th>\n",
       "      <td>8227</td>\n",
       "      <td>0</td>\n",
       "    </tr>\n",
       "    <tr>\n",
       "      <th>1</th>\n",
       "      <td>8228</td>\n",
       "      <td>36</td>\n",
       "    </tr>\n",
       "    <tr>\n",
       "      <th>2</th>\n",
       "      <td>8229</td>\n",
       "      <td>131</td>\n",
       "    </tr>\n",
       "    <tr>\n",
       "      <th>3</th>\n",
       "      <td>8230</td>\n",
       "      <td>169</td>\n",
       "    </tr>\n",
       "    <tr>\n",
       "      <th>4</th>\n",
       "      <td>8231</td>\n",
       "      <td>218</td>\n",
       "    </tr>\n",
       "    <tr>\n",
       "      <th>...</th>\n",
       "      <td>...</td>\n",
       "      <td>...</td>\n",
       "    </tr>\n",
       "    <tr>\n",
       "      <th>8222</th>\n",
       "      <td>8555</td>\n",
       "      <td>2675481</td>\n",
       "    </tr>\n",
       "    <tr>\n",
       "      <th>8223</th>\n",
       "      <td>8528</td>\n",
       "      <td>2675530</td>\n",
       "    </tr>\n",
       "    <tr>\n",
       "      <th>8224</th>\n",
       "      <td>9205</td>\n",
       "      <td>2677219</td>\n",
       "    </tr>\n",
       "    <tr>\n",
       "      <th>8225</th>\n",
       "      <td>8937</td>\n",
       "      <td>2677664</td>\n",
       "    </tr>\n",
       "    <tr>\n",
       "      <th>8226</th>\n",
       "      <td>8260</td>\n",
       "      <td>2677979</td>\n",
       "    </tr>\n",
       "  </tbody>\n",
       "</table>\n",
       "<p>8227 rows × 2 columns</p>\n",
       "</div>"
      ],
      "text/plain": [
       "         1        2\n",
       "0                  \n",
       "0     8227        0\n",
       "1     8228       36\n",
       "2     8229      131\n",
       "3     8230      169\n",
       "4     8231      218\n",
       "...    ...      ...\n",
       "8222  8555  2675481\n",
       "8223  8528  2675530\n",
       "8224  9205  2677219\n",
       "8225  8937  2677664\n",
       "8226  8260  2677979\n",
       "\n",
       "[8227 rows x 2 columns]"
      ]
     },
     "execution_count": 16,
     "metadata": {},
     "output_type": "execute_result"
    }
   ],
   "source": [
    "pd.DataFrame(edge.T.numpy()).groupby(0).min()"
   ]
  },
  {
   "cell_type": "code",
   "execution_count": 20,
   "id": "a3124067-2bfa-4d06-90d1-0b0acabd4bc3",
   "metadata": {},
   "outputs": [
    {
     "data": {
      "text/html": [
       "<div>\n",
       "<style scoped>\n",
       "    .dataframe tbody tr th:only-of-type {\n",
       "        vertical-align: middle;\n",
       "    }\n",
       "\n",
       "    .dataframe tbody tr th {\n",
       "        vertical-align: top;\n",
       "    }\n",
       "\n",
       "    .dataframe thead th {\n",
       "        text-align: right;\n",
       "    }\n",
       "</style>\n",
       "<table border=\"1\" class=\"dataframe\">\n",
       "  <thead>\n",
       "    <tr style=\"text-align: right;\">\n",
       "      <th></th>\n",
       "      <th>0</th>\n",
       "      <th>2</th>\n",
       "    </tr>\n",
       "    <tr>\n",
       "      <th>1</th>\n",
       "      <th></th>\n",
       "      <th></th>\n",
       "    </tr>\n",
       "  </thead>\n",
       "  <tbody>\n",
       "    <tr>\n",
       "      <th>8227</th>\n",
       "      <td>0</td>\n",
       "      <td>0</td>\n",
       "    </tr>\n",
       "    <tr>\n",
       "      <th>8228</th>\n",
       "      <td>1</td>\n",
       "      <td>36</td>\n",
       "    </tr>\n",
       "    <tr>\n",
       "      <th>8229</th>\n",
       "      <td>2</td>\n",
       "      <td>131</td>\n",
       "    </tr>\n",
       "    <tr>\n",
       "      <th>8230</th>\n",
       "      <td>3</td>\n",
       "      <td>169</td>\n",
       "    </tr>\n",
       "    <tr>\n",
       "      <th>8231</th>\n",
       "      <td>4</td>\n",
       "      <td>218</td>\n",
       "    </tr>\n",
       "    <tr>\n",
       "      <th>...</th>\n",
       "      <td>...</td>\n",
       "      <td>...</td>\n",
       "    </tr>\n",
       "    <tr>\n",
       "      <th>9222</th>\n",
       "      <td>233</td>\n",
       "      <td>2396780</td>\n",
       "    </tr>\n",
       "    <tr>\n",
       "      <th>9223</th>\n",
       "      <td>22</td>\n",
       "      <td>2405696</td>\n",
       "    </tr>\n",
       "    <tr>\n",
       "      <th>9224</th>\n",
       "      <td>17</td>\n",
       "      <td>2421296</td>\n",
       "    </tr>\n",
       "    <tr>\n",
       "      <th>9225</th>\n",
       "      <td>1087</td>\n",
       "      <td>2433025</td>\n",
       "    </tr>\n",
       "    <tr>\n",
       "      <th>9226</th>\n",
       "      <td>68</td>\n",
       "      <td>2494164</td>\n",
       "    </tr>\n",
       "  </tbody>\n",
       "</table>\n",
       "<p>1000 rows × 2 columns</p>\n",
       "</div>"
      ],
      "text/plain": [
       "         0        2\n",
       "1                  \n",
       "8227     0        0\n",
       "8228     1       36\n",
       "8229     2      131\n",
       "8230     3      169\n",
       "8231     4      218\n",
       "...    ...      ...\n",
       "9222   233  2396780\n",
       "9223    22  2405696\n",
       "9224    17  2421296\n",
       "9225  1087  2433025\n",
       "9226    68  2494164\n",
       "\n",
       "[1000 rows x 2 columns]"
      ]
     },
     "execution_count": 20,
     "metadata": {},
     "output_type": "execute_result"
    }
   ],
   "source": [
    "pd.DataFrame(edge.T.numpy()).groupby(1).min()"
   ]
  },
  {
   "cell_type": "code",
   "execution_count": 29,
   "id": "b98129ba-520a-41b6-a15d-64ef7e3adcd7",
   "metadata": {},
   "outputs": [
    {
     "data": {
      "text/plain": [
       "(tensor([[   0, 8227],\n",
       "         [   1, 8228],\n",
       "         [   1, 8228],\n",
       "         ...,\n",
       "         [2399, 8722],\n",
       "         [7479, 9147],\n",
       "         [2399, 8722]]),\n",
       " tensor([[-0.1751, -0.1767, -0.9371,  ..., -0.0505, -0.0414, -0.0388],\n",
       "         [-0.1751, -0.1767, -0.9371,  ..., -0.0505, -0.0414, -0.0388],\n",
       "         [-0.1751, -0.1767, -0.9371,  ..., -0.0505, -0.0414, -0.0388],\n",
       "         ...,\n",
       "         [ 0.2734,  0.3008,  1.1224,  ..., -0.0505, -0.0414, -0.0388],\n",
       "         [-0.1751, -0.1767, -0.9371,  ..., -0.0505, -0.0414, -0.0388],\n",
       "         [-0.1751, -0.1767, -0.9371,  ..., -0.0505, -0.0414, -0.0388]]))"
      ]
     },
     "execution_count": 29,
     "metadata": {},
     "output_type": "execute_result"
    }
   ],
   "source": [
    "edge_index.T, wiki.msg"
   ]
  },
  {
   "cell_type": "code",
   "execution_count": 30,
   "id": "120f196d-6351-498b-a233-0246b55f9b18",
   "metadata": {},
   "outputs": [
    {
     "data": {
      "text/plain": [
       "tensor([[ 0.0000e+00,  8.2270e+03, -1.7506e-01,  ..., -5.0464e-02,\n",
       "         -4.1448e-02, -3.8775e-02],\n",
       "        [ 1.0000e+00,  8.2280e+03, -1.7506e-01,  ..., -5.0464e-02,\n",
       "         -4.1448e-02, -3.8775e-02],\n",
       "        [ 1.0000e+00,  8.2280e+03, -1.7506e-01,  ..., -5.0464e-02,\n",
       "         -4.1448e-02, -3.8775e-02],\n",
       "        ...,\n",
       "        [ 2.3990e+03,  8.7220e+03,  2.7344e-01,  ..., -5.0464e-02,\n",
       "         -4.1448e-02, -3.8775e-02],\n",
       "        [ 7.4790e+03,  9.1470e+03, -1.7506e-01,  ..., -5.0464e-02,\n",
       "         -4.1448e-02, -3.8775e-02],\n",
       "        [ 2.3990e+03,  8.7220e+03, -1.7506e-01,  ..., -5.0464e-02,\n",
       "         -4.1448e-02, -3.8775e-02]])"
      ]
     },
     "execution_count": 30,
     "metadata": {},
     "output_type": "execute_result"
    }
   ],
   "source": [
    "edge_msg = torch.cat([edge_index.T, wiki.msg], dim=-1)\n",
    "edge_msg"
   ]
  },
  {
   "cell_type": "code",
   "execution_count": 51,
   "id": "3144e2e0-a97c-4f25-9dfc-86599d003cd6",
   "metadata": {},
   "outputs": [],
   "source": [
    "x = torch.zeros((wiki.num_nodes - 8227, wiki.msg.shape[1]))\n",
    "xx = pd.DataFrame(edge_msg.numpy()).groupby(0).mean().values[:, 1:]"
   ]
  },
  {
   "cell_type": "code",
   "execution_count": 55,
   "id": "74963c74-8c9d-48a1-86a0-b32b4e572c61",
   "metadata": {},
   "outputs": [
    {
     "data": {
      "text/plain": [
       "torch.Size([9227, 172])"
      ]
     },
     "execution_count": 55,
     "metadata": {},
     "output_type": "execute_result"
    }
   ],
   "source": [
    "torch.cat([torch.tensor(xx), x]).shape"
   ]
  },
  {
   "cell_type": "code",
   "execution_count": 18,
   "id": "1a96001b-5df7-4472-b0e2-34331f4638d5",
   "metadata": {},
   "outputs": [
    {
     "data": {
      "text/plain": [
       "Int64Index([   0,    1,    2,    3,    4,    5,    6,    7,    8,    9,\n",
       "            ...\n",
       "            8217, 8218, 8219, 8220, 8221, 8222, 8223, 8224, 8225, 8226],\n",
       "           dtype='int64', name=0, length=8227)"
      ]
     },
     "execution_count": 18,
     "metadata": {},
     "output_type": "execute_result"
    }
   ],
   "source": [
    "pd.DataFrame(edge_index.T.numpy()).groupby(0).count().index"
   ]
  },
  {
   "cell_type": "code",
   "execution_count": 40,
   "id": "b92aacc8-c294-48f5-8768-9f4dbe0e026c",
   "metadata": {},
   "outputs": [
    {
     "data": {
      "text/plain": [
       "array([[8.2270000e+03, 0.0000000e+00],\n",
       "       [8.2280000e+03, 1.3440996e-05],\n",
       "       [8.2290000e+03, 4.8910289e-05],\n",
       "       ...,\n",
       "       [9.2050000e+03, 9.9956912e-01],\n",
       "       [8.9370000e+03, 9.9973530e-01],\n",
       "       [8.2600000e+03, 9.9985290e-01]], dtype=float32)"
      ]
     },
     "execution_count": 40,
     "metadata": {},
     "output_type": "execute_result"
    }
   ],
   "source": [
    "degree = pd.DataFrame(edge.T.numpy()).groupby(0).min().values\n",
    "degree"
   ]
  },
  {
   "cell_type": "code",
   "execution_count": 41,
   "id": "464a47d3-89cd-40b4-9315-ee2509653a9e",
   "metadata": {},
   "outputs": [
    {
     "data": {
      "text/plain": [
       "array([   0,    1,    2, ..., 8224, 8225, 8226])"
      ]
     },
     "execution_count": 41,
     "metadata": {},
     "output_type": "execute_result"
    }
   ],
   "source": [
    "ids = pd.DataFrame(edge_index.T.numpy()).groupby(0).count().index.values\n",
    "ids"
   ]
  },
  {
   "cell_type": "code",
   "execution_count": 50,
   "id": "59243923-a8b0-4bfe-9b57-15bd030b26dd",
   "metadata": {},
   "outputs": [
    {
     "data": {
      "text/plain": [
       "tensor([0.0000e+00, 1.3441e-05, 4.8910e-05,  ..., 0.0000e+00, 0.0000e+00,\n",
       "        0.0000e+00])"
      ]
     },
     "execution_count": 50,
     "metadata": {},
     "output_type": "execute_result"
    }
   ],
   "source": [
    "key = {i: 0 for i in range(wiki.num_nodes)}\n",
    "for i in range(len(ids)):\n",
    "    key[ids[i]] = degree[i][1]\n",
    "node_time = torch.tensor(list(key.values()))\n",
    "node_time"
   ]
  },
  {
   "cell_type": "code",
   "execution_count": 51,
   "id": "8adc87d8-010f-4275-8c6f-560801af5c52",
   "metadata": {},
   "outputs": [
    {
     "data": {
      "text/plain": [
       "torch.float32"
      ]
     },
     "execution_count": 51,
     "metadata": {},
     "output_type": "execute_result"
    }
   ],
   "source": [
    "node_time.dtype"
   ]
  },
  {
   "cell_type": "code",
   "execution_count": 54,
   "id": "650b32b4-c6fd-450e-a4f2-a4ea2298a173",
   "metadata": {},
   "outputs": [
    {
     "data": {
      "text/plain": [
       "tensor([[  1.],\n",
       "        [285.],\n",
       "        [162.],\n",
       "        ...,\n",
       "        [  0.],\n",
       "        [  0.],\n",
       "        [  0.]])"
      ]
     },
     "execution_count": 54,
     "metadata": {},
     "output_type": "execute_result"
    }
   ],
   "source": [
    "node_out_degree = torch_geometric.utils.degree(\n",
    "        edge_index[0], num_nodes=wiki.num_nodes).reshape(-1, 1)\n",
    "node_out_degree"
   ]
  },
  {
   "cell_type": "code",
   "execution_count": 55,
   "id": "54099140-ec07-46bb-83ec-e443e926d171",
   "metadata": {},
   "outputs": [
    {
     "data": {
      "text/plain": [
       "False"
      ]
     },
     "execution_count": 55,
     "metadata": {},
     "output_type": "execute_result"
    }
   ],
   "source": [
    "torch_geometric.utils.is_undirected(edge_index)"
   ]
  },
  {
   "cell_type": "code",
   "execution_count": 60,
   "id": "5ce94db9-2ee9-41e1-9947-883175be6fed",
   "metadata": {},
   "outputs": [
    {
     "data": {
      "text/plain": [
       "(tensor([      0,      36,      77,  ..., 1862639, 1862645, 1862652]),\n",
       " tensor([1862653, 1862659, 1862666,  ..., 2218282, 2218288, 2218288]),\n",
       " tensor([2218300, 2218303, 2218304,  ..., 2678293, 2678333, 2678373]))"
      ]
     },
     "execution_count": 60,
     "metadata": {},
     "output_type": "execute_result"
    }
   ],
   "source": [
    "train, val, test = wiki.train_val_test_split()\n",
    "train.t, val.t, test.t"
   ]
  },
  {
   "cell_type": "code",
   "execution_count": 59,
   "id": "6f63b185-e106-47bd-98f5-b911ae53bfa9",
   "metadata": {},
   "outputs": [
    {
     "ename": "NameError",
     "evalue": "name 'x' is not defined",
     "output_type": "error",
     "traceback": [
      "\u001b[0;31m---------------------------------------------------------------------------\u001b[0m",
      "\u001b[0;31mNameError\u001b[0m                                 Traceback (most recent call last)",
      "Cell \u001b[0;32mIn[59], line 1\u001b[0m\n\u001b[0;32m----> 1\u001b[0m \u001b[43mx\u001b[49m\n",
      "\u001b[0;31mNameError\u001b[0m: name 'x' is not defined"
     ]
    }
   ],
   "source": [
    "x"
   ]
  },
  {
   "cell_type": "code",
   "execution_count": 61,
   "id": "9d7eddfa-c7a0-44ef-86ce-7198f10e0a76",
   "metadata": {},
   "outputs": [],
   "source": [
    "val_time, test_time = list(np.quantile(wiki.t, [0.70, 0.85]))"
   ]
  },
  {
   "cell_type": "code",
   "execution_count": 62,
   "id": "37fe3d33-3764-4d73-9403-74bf706d0955",
   "metadata": {},
   "outputs": [
    {
     "data": {
      "text/plain": [
       "1862652.1"
      ]
     },
     "execution_count": 62,
     "metadata": {},
     "output_type": "execute_result"
    }
   ],
   "source": [
    "val_time"
   ]
  },
  {
   "cell_type": "code",
   "execution_count": 63,
   "id": "f562b739-d5a4-41c2-b355-541f2a85fef5",
   "metadata": {},
   "outputs": [
    {
     "data": {
      "text/plain": [
       "2218288.5999999996"
      ]
     },
     "execution_count": 63,
     "metadata": {},
     "output_type": "execute_result"
    }
   ],
   "source": [
    "test_time"
   ]
  },
  {
   "cell_type": "code",
   "execution_count": 64,
   "id": "4c83ed0a-fb39-4a68-8294-372eba259b05",
   "metadata": {},
   "outputs": [
    {
     "data": {
      "text/plain": [
       "9227"
      ]
     },
     "execution_count": 64,
     "metadata": {},
     "output_type": "execute_result"
    }
   ],
   "source": [
    "wiki.num_nodes"
   ]
  },
  {
   "cell_type": "code",
   "execution_count": 66,
   "id": "7b8419b1-f37c-4975-82a2-24c9e66b44cc",
   "metadata": {},
   "outputs": [
    {
     "data": {
      "text/plain": [
       "torch.Size([9227])"
      ]
     },
     "execution_count": 66,
     "metadata": {},
     "output_type": "execute_result"
    }
   ],
   "source": [
    "node_time.shape"
   ]
  },
  {
   "cell_type": "code",
   "execution_count": 70,
   "id": "8d881a57-6d25-41be-ac16-3a679e6a02aa",
   "metadata": {},
   "outputs": [
    {
     "data": {
      "text/plain": [
       "tensor([  32,  137,  515,  688,  689,  743,  690,  266,  910,  980,  637,  661,\n",
       "        1120,  798, 1398, 1409, 1433, 1463, 1481, 1489, 1522, 1581,  112, 1072,\n",
       "        1088, 1914, 1253, 1930, 1939, 1900, 1969, 2021, 1747, 1809, 2071, 2208,\n",
       "        2212, 2150, 2250, 2284, 2299, 2222,  276, 2347, 2385, 2398, 2417, 2529,\n",
       "        2635, 2656, 2737, 2760, 2789, 2735, 1234, 3019, 2719, 3074, 3089,  301,\n",
       "        3177, 2931, 2235, 3234, 3248, 3279, 3018,  355, 3032, 2470, 3508,  787,\n",
       "        3621, 3509, 3758, 3875, 4008, 4032, 4062, 4114, 4120, 4149, 4152, 4260,\n",
       "        4379, 4485, 4475, 4502, 4500, 4497, 4582, 4257, 4594, 4663, 4703, 4898,\n",
       "        4920, 1274, 4959,  354, 5022, 5106, 5111, 1798, 5172, 5233,  213,  330,\n",
       "        5251, 3313, 4156, 5269, 5303, 5061, 5340, 5375,  501, 4176, 5472, 5514,\n",
       "        4334, 5548, 3281, 5304, 5588, 5601, 5621, 5642, 4660, 5682, 3109, 5662,\n",
       "        5781, 5825, 5861, 4987, 5967, 5982, 1209, 6023, 6034, 6038, 5685,  216,\n",
       "        6200, 6266, 1353, 6149, 6180, 6340, 6380, 6221, 6383, 6435, 6511, 1236,\n",
       "         305, 5280, 6586, 6657, 6717, 6757,   14, 4587, 6793, 6849, 6847, 6912,\n",
       "        2495, 7073, 7141, 7246,  204, 7347, 7142, 7358, 7373, 7437, 7492, 7509,\n",
       "        7310, 7565, 7608, 7614, 7618, 2527, 7635, 6110, 7699, 7276, 7729, 7730,\n",
       "        7731, 7732, 7739, 7567, 7790, 7798, 7804, 7251, 7829, 7845,  248, 7821,\n",
       "        7937, 4116, 7946, 7985,  894, 8050, 8052, 2777, 8060, 7538, 8076, 8108,\n",
       "        8222])"
      ]
     },
     "execution_count": 70,
     "metadata": {},
     "output_type": "execute_result"
    }
   ],
   "source": [
    "wiki.src[wiki.y == 1]"
   ]
  },
  {
   "cell_type": "code",
   "execution_count": 76,
   "id": "3b824c41-97c5-42f7-91ef-947f7c150492",
   "metadata": {},
   "outputs": [
    {
     "data": {
      "text/plain": [
       "tensor([0, 0, 0,  ..., 0, 0, 0])"
      ]
     },
     "execution_count": 76,
     "metadata": {},
     "output_type": "execute_result"
    }
   ],
   "source": [
    "y = torch.zeros(wiki.num_nodes, dtype=wiki.y.dtype)\n",
    "y[wiki.src[wiki.y == 1]] = 1\n",
    "y"
   ]
  },
  {
   "cell_type": "code",
   "execution_count": 78,
   "id": "15e85541-c7fd-4550-a0aa-95495470e28e",
   "metadata": {},
   "outputs": [
    {
     "data": {
      "text/plain": [
       "tensor(217)"
      ]
     },
     "execution_count": 78,
     "metadata": {},
     "output_type": "execute_result"
    }
   ],
   "source": [
    "(y==1).sum()"
   ]
  },
  {
   "cell_type": "code",
   "execution_count": 79,
   "id": "8e8efd77-191f-4826-b7fb-dd27a689f44c",
   "metadata": {},
   "outputs": [
    {
     "data": {
      "text/plain": [
       "torch.Size([9227])"
      ]
     },
     "execution_count": 79,
     "metadata": {},
     "output_type": "execute_result"
    }
   ],
   "source": [
    "y.shape"
   ]
  },
  {
   "cell_type": "code",
   "execution_count": null,
   "id": "4a3c4ac5-4096-499a-be20-ae3f1bda8318",
   "metadata": {},
   "outputs": [],
   "source": []
  }
 ],
 "metadata": {
  "kernelspec": {
   "display_name": "Python 3 (ipykernel)",
   "language": "python",
   "name": "python3"
  },
  "language_info": {
   "codemirror_mode": {
    "name": "ipython",
    "version": 3
   },
   "file_extension": ".py",
   "mimetype": "text/x-python",
   "name": "python",
   "nbconvert_exporter": "python",
   "pygments_lexer": "ipython3",
   "version": "3.10.9"
  }
 },
 "nbformat": 4,
 "nbformat_minor": 5
}
